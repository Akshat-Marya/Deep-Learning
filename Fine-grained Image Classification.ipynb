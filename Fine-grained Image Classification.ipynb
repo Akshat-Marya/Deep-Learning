{
  "nbformat": 4,
  "nbformat_minor": 0,
  "metadata": {
    "colab": {
      "name": "Donttouch_final_custom_model",
      "version": "0.3.2",
      "provenance": [],
      "collapsed_sections": [
        "zXOEHaogXvwo",
        "GUfMh4ptm3XN",
        "6NW8xVjlqHNg",
        "AaBlWx1bnrqW",
        "jD86ZERMn096"
      ],
      "toc_visible": true
    },
    "kernelspec": {
      "name": "python3",
      "display_name": "Python 3"
    },
    "accelerator": "GPU"
  },
  "cells": [
    {
      "metadata": {
        "id": "cgKIk5bMla8x",
        "colab_type": "code",
        "colab": {}
      },
      "cell_type": "code",
      "source": [
        "\n"
      ],
      "execution_count": 0,
      "outputs": []
    },
    {
      "metadata": {
        "id": "CVGM3r9Xqtxb",
        "colab_type": "text"
      },
      "cell_type": "markdown",
      "source": [
        "# Project"
      ]
    },
    {
      "metadata": {
        "id": "zXOEHaogXvwo",
        "colab_type": "text"
      },
      "cell_type": "markdown",
      "source": [
        "# Dependencies"
      ]
    },
    {
      "metadata": {
        "id": "8sg9-qhmjKnS",
        "colab_type": "text"
      },
      "cell_type": "markdown",
      "source": [
        "***GPU***\n",
        "\n",
        "---\n",
        "\n"
      ]
    },
    {
      "metadata": {
        "id": "98GqfinfWgXO",
        "colab_type": "code",
        "outputId": "adba186b-dd84-4825-a215-7b81e3f076cb",
        "colab": {
          "base_uri": "https://localhost:8080/",
          "height": 72
        }
      },
      "cell_type": "code",
      "source": [
        "#GPU\n",
        "from os import path\n",
        "from wheel.pep425tags import get_abbr_impl, get_impl_ver, get_abi_tag\n",
        "platform = '{}{}-{}'.format(get_abbr_impl(), get_impl_ver(), get_abi_tag())\n",
        "\n",
        "accelerator = 'cu80' if path.exists('/opt/bin/nvidia-smi') else 'cpu'\n",
        "\n",
        "!pip install -q http://download.pytorch.org/whl/{accelerator}/torch-0.4.0-{platform}-linux_x86_64.whl torchvision\n",
        "  \n",
        "  \n",
        "import torch\n",
        "print(torch.__version__)\n",
        "print(\"GPU is available\" if torch.cuda.is_available() else \"GPU is not available\")"
      ],
      "execution_count": 0,
      "outputs": [
        {
          "output_type": "stream",
          "text": [
            "0.4.0\n",
            "GPU is available\n"
          ],
          "name": "stdout"
        }
      ]
    },
    {
      "metadata": {
        "id": "ann5zjRnjTQ0",
        "colab_type": "text"
      },
      "cell_type": "markdown",
      "source": [
        " ***Libraries***\n",
        "\n",
        "---\n",
        "\n"
      ]
    },
    {
      "metadata": {
        "id": "SEBdX_YlW8A-",
        "colab_type": "code",
        "colab": {}
      },
      "cell_type": "code",
      "source": [
        "import numpy as np\n",
        "import matplotlib.pyplot as plt\n",
        "import torchvision\n",
        "from torchvision import datasets, transforms\n",
        "from torch.autograd import Variable\n",
        "import pandas as pd\n",
        "from skimage import io, transform\n",
        "import os\n",
        "from torch.utils.data import Dataset, DataLoader\n",
        "from torchvision import transforms, utils\n",
        "from skimage import io, transform\n",
        "from sklearn.preprocessing import MultiLabelBinarizer\n",
        "from sklearn.preprocessing import LabelBinarizer\n",
        "from matplotlib.pyplot import imshow\n",
        "# Ignore warnings\n",
        "import warnings\n",
        "warnings.filterwarnings(\"ignore\")\n",
        "\n",
        "plt.ion()   # interactive mode\n",
        "from torch.utils.data.sampler import SubsetRandomSampler\n",
        "from torch.utils.data.sampler import SubsetRandomSampler\n",
        "from torch import optim\n",
        "from torch.nn import functional as F\n",
        "import torchvision.models as models"
      ],
      "execution_count": 0,
      "outputs": []
    },
    {
      "metadata": {
        "id": "2WZ5I5tRjY1O",
        "colab_type": "text"
      },
      "cell_type": "markdown",
      "source": [
        "***PIL 4.1***\n",
        "\n",
        "---\n",
        "\n"
      ]
    },
    {
      "metadata": {
        "id": "DQVPcC_2XsLw",
        "colab_type": "code",
        "outputId": "ca520d98-7735-4d40-cdc0-672d7ba3a8fe",
        "colab": {
          "base_uri": "https://localhost:8080/",
          "height": 72
        }
      },
      "cell_type": "code",
      "source": [
        "#Please install Pillow version 4.1.1 to run the code properly.\n",
        "##############################################################\n",
        "!pip install Pillow==4.1.1\n",
        "##############################################################\n",
        "import PIL\n",
        "from PIL import Image"
      ],
      "execution_count": 0,
      "outputs": [
        {
          "output_type": "stream",
          "text": [
            "Requirement already satisfied: Pillow==4.1.1 in /usr/local/lib/python3.6/dist-packages (4.1.1)\n",
            "Requirement already satisfied: olefile in /usr/local/lib/python3.6/dist-packages (from Pillow==4.1.1) (0.46)\n"
          ],
          "name": "stdout"
        }
      ]
    },
    {
      "metadata": {
        "id": "kiB5y9fPjk35",
        "colab_type": "text"
      },
      "cell_type": "markdown",
      "source": [
        "***Google Drive***\n",
        "\n",
        "---\n",
        "\n"
      ]
    },
    {
      "metadata": {
        "id": "ovZeV163dLRv",
        "colab_type": "code",
        "outputId": "b1774d7e-af6a-4633-b6d9-8f0799527e10",
        "colab": {
          "base_uri": "https://localhost:8080/",
          "height": 55
        }
      },
      "cell_type": "code",
      "source": [
        "#get access to your google drive in colab using this code\n",
        "from google.colab import drive\n",
        "drive.mount('/content/drive')"
      ],
      "execution_count": 0,
      "outputs": [
        {
          "output_type": "stream",
          "text": [
            "Drive already mounted at /content/drive; to attempt to forcibly remount, call drive.mount(\"/content/drive\", force_remount=True).\n"
          ],
          "name": "stdout"
        }
      ]
    },
    {
      "metadata": {
        "id": "vFgAPZLbQ-BB",
        "colab_type": "text"
      },
      "cell_type": "markdown",
      "source": [
        "***PyDrive***\n",
        "\n",
        "---\n",
        "\n"
      ]
    },
    {
      "metadata": {
        "id": "CKxvZrg2h6z2",
        "colab_type": "code",
        "outputId": "f83c5f0a-1af1-40d0-cbd6-84f682ad9e9f",
        "colab": {
          "base_uri": "https://localhost:8080/",
          "height": 72
        }
      },
      "cell_type": "code",
      "source": [
        "#The following code has been copied from:https://colab.research.google.com/drive/1P2AmVHPmDccstO0BiGu2uGAG0vTx444b\n",
        "#################### DOWNLOAD AND UNZIP FILE SAVED IN DRIVE ####################\n",
        "\n",
        "!pip install -U -q PyDrive\n",
        "\n",
        "# HERE YOUR FILE ID ( GET IT WITH THE SHARING URL: https://drive.google.com/file/d/1BkJ1ivubvpTeGfix-7eQt6KUGQPfJwdq/view?usp=sharing )\n",
        "zip_id = '1BkJ1ivubvpTeGfix-7eQt6KUGQPfJwdq'\n",
        "\n",
        "from pydrive.auth import GoogleAuth\n",
        "from pydrive.drive import GoogleDrive\n",
        "from google.colab import auth\n",
        "from oauth2client.client import GoogleCredentials\n",
        "import zipfile, os\n",
        "\n",
        "# 1. Authenticate and create the PyDrive client.\n",
        "auth.authenticate_user()\n",
        "gauth = GoogleAuth()\n",
        "gauth.credentials = GoogleCredentials.get_application_default()\n",
        "drive = GoogleDrive(gauth)\n",
        "\n",
        "if not os.path.exists('MODEL'):\n",
        "    os.makedirs('MODEL')\n",
        "\n",
        "# DOWNLOAD ZIP\n",
        "print (\"Downloading zip file\")\n",
        "myzip = drive.CreateFile({'id': zip_id})\n",
        "myzip.GetContentFile('train_corrected.zip')\n",
        "\n",
        "# UNZIP ZIP\n",
        "print (\"Uncompressing zip file\")\n",
        "zip_ref = zipfile.ZipFile('train_corrected.zip', 'r')\n",
        "zip_ref.extractall('MODEL/')\n",
        "zip_ref.close()"
      ],
      "execution_count": 0,
      "outputs": [
        {
          "output_type": "stream",
          "text": [
            "Downloading zip file\n",
            "Uncompressing zip file\n"
          ],
          "name": "stdout"
        }
      ]
    },
    {
      "metadata": {
        "id": "GUfMh4ptm3XN",
        "colab_type": "text"
      },
      "cell_type": "markdown",
      "source": [
        "# Explore Dataset"
      ]
    },
    {
      "metadata": {
        "id": "e4dcvWHfqTte",
        "colab_type": "text"
      },
      "cell_type": "markdown",
      "source": [
        "***Get Data***\n",
        "\n",
        "---\n",
        "\n"
      ]
    },
    {
      "metadata": {
        "id": "z1hxuH1nRBJ5",
        "colab_type": "code",
        "colab": {}
      },
      "cell_type": "code",
      "source": [
        "# get data\n",
        "data = pd.read_csv('MODEL/train_cars.csv')"
      ],
      "execution_count": 0,
      "outputs": []
    },
    {
      "metadata": {
        "id": "no2NDuXtqX5O",
        "colab_type": "text"
      },
      "cell_type": "markdown",
      "source": [
        "***Get image name and labels***\n",
        "\n",
        "---\n",
        "\n"
      ]
    },
    {
      "metadata": {
        "id": "zD_8569RSVax",
        "colab_type": "code",
        "outputId": "a322fade-9aa2-486c-a9a6-b765e2e1cacf",
        "colab": {
          "base_uri": "https://localhost:8080/",
          "height": 72
        }
      },
      "cell_type": "code",
      "source": [
        "X = data.iloc[:,0]\n",
        "y = data.iloc[:,1]\n",
        "print(len(X))\n",
        "print(len(y))"
      ],
      "execution_count": 0,
      "outputs": [
        {
          "output_type": "stream",
          "text": [
            "11617\n",
            "11617\n"
          ],
          "name": "stdout"
        }
      ]
    },
    {
      "metadata": {
        "id": "lvFusRDdqgdC",
        "colab_type": "text"
      },
      "cell_type": "markdown",
      "source": [
        "***Look at the Data***\n",
        "\n",
        "---\n",
        "\n"
      ]
    },
    {
      "metadata": {
        "id": "d0qff5bONDCr",
        "colab_type": "code",
        "outputId": "b8d51601-0c95-4030-c85f-6eba33e151e2",
        "colab": {
          "base_uri": "https://localhost:8080/",
          "height": 903
        }
      },
      "cell_type": "code",
      "source": [
        "#https://matplotlib.org/gallery/statistics/barchart_demo.html\n",
        "#https://matplotlib.org/api/_as_gen/matplotlib.figure.Figure.html\n",
        "def explore_data(data):\n",
        "  #describe our dataset\n",
        "  print(\"################### Exploring Dataset:\")\n",
        "  print(\"data.describe() \\n \", data.describe())\n",
        "\n",
        "  #count the number of examples for each label\n",
        "  print(\" \\n Label Counts for each: \\n \", data.groupby(data).size())\n",
        "\n",
        "  #make a dictionary for bar chart\n",
        "  a = data.value_counts().to_dict()\n",
        "  names = list(a.keys())\n",
        "  values = list(a.values())\n",
        "\n",
        "  #define the size our bar chart\n",
        "  import matplotlib.pyplot as plt\n",
        "  from matplotlib.pyplot import figure\n",
        "  figure(num=None)\n",
        "\n",
        "  #tick_label does the some work as plt.xticks()\n",
        "  plt.barh(range(len(a)),values,tick_label=names)\n",
        "  plt.title(\"Label vs Instance count\")\n",
        "  plt.savefig('bar.png')\n",
        "  plt.show()\n",
        "  print(\"################### Finish Exploring Dataset ###################\")\n",
        "\n",
        "#overall_data\n",
        "print(\"\\n Dataset \\n\")\n",
        "explore_data(y)\n"
      ],
      "execution_count": 0,
      "outputs": [
        {
          "output_type": "stream",
          "text": [
            "\n",
            " Dataset \n",
            "\n",
            "################### Exploring Dataset:\n",
            "data.describe() \n",
            "  count     11617\n",
            "unique       15\n",
            "top       sedan\n",
            "freq       5783\n",
            "Name: target, dtype: object\n",
            " \n",
            " Label Counts for each: \n",
            "  target\n",
            "bus                                 53\n",
            "cement mixer                        17\n",
            "crane truck                         16\n",
            "dedicated agricultural vehicle       5\n",
            "hatchback                         3080\n",
            "jeep                               865\n",
            "light truck                        164\n",
            "minibus                             25\n",
            "minivan                            586\n",
            "pickup                             435\n",
            "prime mover                         44\n",
            "sedan                             5783\n",
            "tanker                               3\n",
            "truck                              179\n",
            "van                                362\n",
            "Name: target, dtype: int64\n"
          ],
          "name": "stdout"
        },
        {
          "output_type": "display_data",
          "data": {
            "image/png": "[encoded data removed]",
            "text/plain": [
              "<matplotlib.figure.Figure at 0x7f1fa01bf898>"
            ]
          },
          "metadata": {
            "tags": []
          }
        },
        {
          "output_type": "stream",
          "text": [
            "################### Finish Exploring Dataset ###################\n"
          ],
          "name": "stdout"
        }
      ]
    },
    {
      "metadata": {
        "id": "6NW8xVjlqHNg",
        "colab_type": "text"
      },
      "cell_type": "markdown",
      "source": [
        "# Convert Labels to Indices"
      ]
    },
    {
      "metadata": {
        "id": "6ZUKQF8BSXok",
        "colab_type": "code",
        "colab": {}
      },
      "cell_type": "code",
      "source": [
        "from sklearn import preprocessing\n",
        "le = preprocessing.LabelEncoder()\n",
        "new_labels = le.fit(y)\n",
        "y = le.transform(y)"
      ],
      "execution_count": 0,
      "outputs": []
    },
    {
      "metadata": {
        "id": "WZ6_8SiEmVc3",
        "colab_type": "code",
        "outputId": "1e0cc2f8-fe9b-44c6-a3d9-180a2e3b09da",
        "colab": {
          "base_uri": "https://localhost:8080/",
          "height": 107
        }
      },
      "cell_type": "code",
      "source": [
        "le.classes_"
      ],
      "execution_count": 0,
      "outputs": [
        {
          "output_type": "execute_result",
          "data": {
            "text/plain": [
              "array(['bus', 'cement mixer', 'crane truck',\n",
              "       'dedicated agricultural vehicle', 'hatchback', 'jeep',\n",
              "       'light truck', 'minibus', 'minivan', 'pickup', 'prime mover',\n",
              "       'sedan', 'tanker', 'truck', 'van'], dtype=object)"
            ]
          },
          "metadata": {
            "tags": []
          },
          "execution_count": 36
        }
      ]
    },
    {
      "metadata": {
        "id": "roKc3cUAm7Cb",
        "colab_type": "text"
      },
      "cell_type": "markdown",
      "source": [
        "# Split into train, valid and test"
      ]
    },
    {
      "metadata": {
        "id": "CkxZDB7wRG7T",
        "colab_type": "code",
        "colab": {}
      },
      "cell_type": "code",
      "source": [
        "# split into train and test\n",
        "from sklearn.model_selection import train_test_split\n",
        "X_train, X_test, y_train, y_test = train_test_split(X, y,\n",
        "                                                    stratify=y, \n",
        "                                                    test_size=0.10, shuffle=True)\n",
        "X_valid, X_test, y_valid, y_test = train_test_split(X_test, y_test,\n",
        "                                                    stratify=y_test, \n",
        "                                                    test_size=0.5, shuffle=True)\n"
      ],
      "execution_count": 0,
      "outputs": []
    },
    {
      "metadata": {
        "id": "VHTMacWYJSia",
        "colab_type": "code",
        "outputId": "286c6d8d-a246-4aed-9eb9-ec0535a27f05",
        "colab": {
          "base_uri": "https://localhost:8080/",
          "height": 88
        }
      },
      "cell_type": "code",
      "source": [
        "print(len(X_train),len(y_train))\n",
        "print(len(X_valid),len(y_valid))\n",
        "print(len(X_test),len(y_test))\n",
        "print()"
      ],
      "execution_count": 0,
      "outputs": [
        {
          "output_type": "stream",
          "text": [
            "10455 10455\n",
            "581 581\n",
            "581 581\n",
            "\n"
          ],
          "name": "stdout"
        }
      ]
    },
    {
      "metadata": {
        "id": "CbEuEiiznaXf",
        "colab_type": "text"
      },
      "cell_type": "markdown",
      "source": [
        "# Create Custom Dataset"
      ]
    },
    {
      "metadata": {
        "id": "m5hOf7D6mBC0",
        "colab_type": "code",
        "colab": {}
      },
      "cell_type": "code",
      "source": [
        "class CompDataset(Dataset):\n",
        "  \n",
        "  #define the constructor\n",
        "  def __init__(self, X, y, root_dir, transform=None):\n",
        "    self.len = len(X)\n",
        "    self.names = X\n",
        "    self.root_dir = root_dir\n",
        "    self.transform = transform\n",
        "    self.label = y\n",
        "    \n",
        "\n",
        "  #define the mapping from label to image\n",
        "  def __getitem__(self, index):\n",
        "      img_name = os.path.join(self.root_dir, self.names.iloc[index])\n",
        "      image = Image.open(img_name)\n",
        "      #get image dimensions\n",
        "      width, height = image.size\n",
        "      #check if it's vertical or horizontal and rotate it\n",
        "      if width > height:\n",
        "        image = image.rotate(90)      \n",
        "      label = self.label[index]\n",
        "\n",
        "      #apply transformations\n",
        "      if self.transform is not None:\n",
        "        image = self.transform(image)\n",
        "        \n",
        "      return (image, label)\n",
        "    \n",
        "  #return the length    \n",
        "  def __len__(self):\n",
        "    return self.len\n",
        "\n",
        "    \n",
        "comp_dataset = CompDataset(X_train, y_train, root_dir='MODEL/train', transform=None)"
      ],
      "execution_count": 0,
      "outputs": []
    },
    {
      "metadata": {
        "id": "TkRz1ASqpyXX",
        "colab_type": "text"
      },
      "cell_type": "markdown",
      "source": [
        "***output check***\n",
        "\n",
        "---\n",
        "\n"
      ]
    },
    {
      "metadata": {
        "id": "ynmuffeioU7o",
        "colab_type": "code",
        "outputId": "87e46896-3c71-4ab4-c87d-58b82f7ade8f",
        "colab": {
          "base_uri": "https://localhost:8080/",
          "height": 52
        }
      },
      "cell_type": "code",
      "source": [
        "comp_dataset[0]"
      ],
      "execution_count": 0,
      "outputs": [
        {
          "output_type": "execute_result",
          "data": {
            "text/plain": [
              "(<PIL.JpegImagePlugin.JpegImageFile image mode=RGB size=27x58 at 0x7F1FA422D9B0>,\n",
              " 4)"
            ]
          },
          "metadata": {
            "tags": []
          },
          "execution_count": 40
        }
      ]
    },
    {
      "metadata": {
        "id": "3-OTbVu-p1MI",
        "colab_type": "text"
      },
      "cell_type": "markdown",
      "source": [
        "***Define Transformations***\n",
        "\n",
        "---\n",
        "\n"
      ]
    },
    {
      "metadata": {
        "id": "Y7eD0ZLunqQ0",
        "colab_type": "code",
        "colab": {}
      },
      "cell_type": "code",
      "source": [
        "#define the transformations to be applied on the image\n",
        "data_transform_train = transforms.Compose([\n",
        "        transforms.Resize((140,140)),\n",
        "        transforms.CenterCrop(224),\n",
        "        transforms.RandomHorizontalFlip(),\n",
        "        transforms.ToTensor(),\n",
        "        transforms.Normalize((0.476, 0.498, 0.561), (0.250, 0.255, 0.263))\n",
        "    ])\n",
        "#define the transformations to be applied on the image\n",
        "data_transform_valid = transforms.Compose([\n",
        "        transforms.Resize((140,140)),\n",
        "        transforms.CenterCrop(224),\n",
        "        transforms.ToTensor(),\n",
        "        transforms.Normalize((0.476, 0.498, 0.561), (0.250, 0.255, 0.263))\n",
        "\n",
        "    ])\n",
        "\n",
        "#define the transformations to be applied on the image\n",
        "data_transform_test = transforms.Compose([\n",
        "        transforms.Resize((140,140)),\n",
        "        transforms.CenterCrop(224),\n",
        "        transforms.ToTensor(),\n",
        "        transforms.Normalize((0.476, 0.498, 0.56), (0.250, 0.255, 0.263))\n",
        "\n",
        "    ])"
      ],
      "execution_count": 0,
      "outputs": []
    },
    {
      "metadata": {
        "id": "7YSimZsNp4x9",
        "colab_type": "text"
      },
      "cell_type": "markdown",
      "source": [
        "***Apply transformations***\n",
        "\n",
        "---\n",
        "\n"
      ]
    },
    {
      "metadata": {
        "id": "JQyXPWqBqe9s",
        "colab_type": "code",
        "colab": {}
      },
      "cell_type": "code",
      "source": [
        "train_dataset = CompDataset(X_train, y_train, root_dir='MODEL/train', transform=data_transform_train)\n",
        "test_dataset = CompDataset(X_test, y_test, root_dir='MODEL/train', transform=data_transform_test)\n",
        "valid_dataset = CompDataset(X_valid , y_valid, root_dir='MODEL/train', transform=data_transform_valid)"
      ],
      "execution_count": 0,
      "outputs": []
    },
    {
      "metadata": {
        "id": "QOYlcrGLp8Kr",
        "colab_type": "text"
      },
      "cell_type": "markdown",
      "source": [
        "***Find mean and std across three channels***\n",
        "\n",
        "---\n",
        "\n"
      ]
    },
    {
      "metadata": {
        "id": "_VleRH9ZrEsa",
        "colab_type": "code",
        "outputId": "86ce9685-6d88-45b8-f3ed-2beaee26f261",
        "colab": {
          "base_uri": "https://localhost:8080/",
          "height": 52
        }
      },
      "cell_type": "code",
      "source": [
        "#initialise placeholders\n",
        "mean_r=[]\n",
        "mean_g=[]\n",
        "mean_b=[]\n",
        "\n",
        "std_r=[]\n",
        "std_g=[]\n",
        "std_b=[]\n",
        "\n",
        "\n",
        "for i in range(comp_dataset.len):\n",
        "  image, label= comp_dataset[i]\n",
        "  image = np.array(image)\n",
        "  #print(type(image))\n",
        "  #print(image[:,:,0].reshape(-1))\n",
        "  mean_r.append(image[:,:,0].reshape(-1))\n",
        "  #print(len(mean_r))\n",
        "  #np.mean\n",
        "  mean_r.append(image[:,:,0].flatten())\n",
        "  mean_g.append(image[:,:,1].flatten())\n",
        "  mean_b.append(image[:,:,2].flatten())\n",
        "\n",
        "  #np.std\n",
        "  std_r.append(image[:,:,0].flatten())\n",
        "  std_g.append(image[:,:,1].flatten())\n",
        "  std_b.append(image[:,:,2].flatten())\n",
        "  \n",
        "  \n",
        "r = np.mean(np.concatenate(mean_r).ravel())\n",
        "g = np.mean(np.concatenate(mean_g).ravel())\n",
        "b = np.mean(np.concatenate(mean_b).ravel())\n",
        "r=r/255\n",
        "g=g/255\n",
        "b=b/255\n",
        "print(r, g, b)\n",
        "\n",
        "s_r = np.std(np.concatenate(std_r).ravel())\n",
        "s_g = np.std(np.concatenate(std_g).ravel())\n",
        "s_b = np.std(np.concatenate(std_b).ravel())\n",
        "s_r=s_r/255\n",
        "s_g=s_g/255\n",
        "s_b=s_b/255\n",
        "print(s_r, s_b, s_g)\n",
        "#49.15164394405574 49.15164394405574 49.15164394405574\n",
        "#0.19"
      ],
      "execution_count": 0,
      "outputs": [
        {
          "output_type": "stream",
          "text": [
            "0.4763334834131336 0.4981582784849688 0.5605659331207022\n",
            "0.2508132191323234 0.2557287362490529 0.2636596483103132\n"
          ],
          "name": "stdout"
        }
      ]
    },
    {
      "metadata": {
        "id": "AaBlWx1bnrqW",
        "colab_type": "text"
      },
      "cell_type": "markdown",
      "source": [
        "# Initialise Dataloaders"
      ]
    },
    {
      "metadata": {
        "id": "qstUh6CZq_vi",
        "colab_type": "code",
        "colab": {}
      },
      "cell_type": "code",
      "source": [
        "#declare and initialize dataloaders\n",
        "train_loader = torch.utils.data.DataLoader(dataset=train_dataset,\n",
        "                                             batch_size=32, num_workers=0, shuffle=True)\n",
        "validation_loader = torch.utils.data.DataLoader(dataset=valid_dataset,\n",
        "                                             batch_size=32, num_workers=4, shuffle=True)\n",
        "test_loader = torch.utils.data.DataLoader(dataset=test_dataset,\n",
        "                                             batch_size=32, num_workers=0, shuffle=True)"
      ],
      "execution_count": 0,
      "outputs": []
    },
    {
      "metadata": {
        "id": "7g2T2e9mC-tp",
        "colab_type": "code",
        "outputId": "f2b1e159-5ddd-4895-9108-9edc290f3257",
        "colab": {
          "base_uri": "https://localhost:8080/",
          "height": 89
        }
      },
      "cell_type": "code",
      "source": [
        "print(len(train_loader.dataset))\n",
        "print(len(validation_loader.dataset))\n",
        "print(len(test_loader.dataset))"
      ],
      "execution_count": 0,
      "outputs": [
        {
          "output_type": "stream",
          "text": [
            "10455\n",
            "581\n",
            "581\n"
          ],
          "name": "stdout"
        }
      ]
    },
    {
      "metadata": {
        "id": "dFkyiyXopjMf",
        "colab_type": "text"
      },
      "cell_type": "markdown",
      "source": [
        "***Display a batch from train_loader***\n",
        "\n",
        "---\n",
        "\n"
      ]
    },
    {
      "metadata": {
        "id": "4fBnqpyFC-2m",
        "colab_type": "code",
        "outputId": "25fdab10-c20f-470f-c8e8-ac32525983e4",
        "colab": {
          "base_uri": "https://localhost:8080/",
          "height": 2257
        }
      },
      "cell_type": "code",
      "source": [
        "import matplotlib.pyplot as plt\n",
        "import numpy as np\n",
        "\n",
        "# functions to show an image\n",
        "\n",
        "\n",
        "def imshow(img):\n",
        "    img = img / 2 + 0.5     # unnormalize\n",
        "    npimg = img.numpy()\n",
        "    plt.imshow(np.transpose(npimg, (1, 2, 0)))\n",
        "    plt.show()\n",
        "\n",
        "\n",
        "# get some random training images\n",
        "dataiter = iter(train_loader)\n",
        "images, labels = dataiter.next()\n",
        "\n",
        "# show images\n",
        "imshow(torchvision.utils.make_grid(images))\n",
        "# print labels\n",
        "print(' '.join('%5s' % le.classes_[labels[j]] for j in range(32)))"
      ],
      "execution_count": 0,
      "outputs": [
        {
          "output_type": "error",
          "ename": "ValueError",
          "evalue": "ignored",
          "traceback": [
            "\u001b[0;31m---------------------------------------------------------------------------\u001b[0m",
            "\u001b[0;31mValueError\u001b[0m                                Traceback (most recent call last)",
            "\u001b[0;32m/usr/local/lib/python3.6/dist-packages/IPython/core/formatters.py\u001b[0m in \u001b[0;36m__call__\u001b[0;34m(self, obj)\u001b[0m\n\u001b[1;32m    332\u001b[0m                 \u001b[0;32mpass\u001b[0m\u001b[0;34m\u001b[0m\u001b[0;34m\u001b[0m\u001b[0m\n\u001b[1;32m    333\u001b[0m             \u001b[0;32melse\u001b[0m\u001b[0;34m:\u001b[0m\u001b[0;34m\u001b[0m\u001b[0;34m\u001b[0m\u001b[0m\n\u001b[0;32m--> 334\u001b[0;31m                 \u001b[0;32mreturn\u001b[0m \u001b[0mprinter\u001b[0m\u001b[0;34m(\u001b[0m\u001b[0mobj\u001b[0m\u001b[0;34m)\u001b[0m\u001b[0;34m\u001b[0m\u001b[0;34m\u001b[0m\u001b[0m\n\u001b[0m\u001b[1;32m    335\u001b[0m             \u001b[0;31m# Finally look for special method names\u001b[0m\u001b[0;34m\u001b[0m\u001b[0;34m\u001b[0m\u001b[0;34m\u001b[0m\u001b[0m\n\u001b[1;32m    336\u001b[0m             \u001b[0mmethod\u001b[0m \u001b[0;34m=\u001b[0m \u001b[0mget_real_method\u001b[0m\u001b[0;34m(\u001b[0m\u001b[0mobj\u001b[0m\u001b[0;34m,\u001b[0m \u001b[0mself\u001b[0m\u001b[0;34m.\u001b[0m\u001b[0mprint_method\u001b[0m\u001b[0;34m)\u001b[0m\u001b[0;34m\u001b[0m\u001b[0;34m\u001b[0m\u001b[0m\n",
            "\u001b[0;32m/usr/local/lib/python3.6/dist-packages/IPython/core/pylabtools.py\u001b[0m in \u001b[0;36m<lambda>\u001b[0;34m(fig)\u001b[0m\n\u001b[1;32m    239\u001b[0m \u001b[0;34m\u001b[0m\u001b[0m\n\u001b[1;32m    240\u001b[0m     \u001b[0;32mif\u001b[0m \u001b[0;34m'png'\u001b[0m \u001b[0;32min\u001b[0m \u001b[0mformats\u001b[0m\u001b[0;34m:\u001b[0m\u001b[0;34m\u001b[0m\u001b[0;34m\u001b[0m\u001b[0m\n\u001b[0;32m--> 241\u001b[0;31m         \u001b[0mpng_formatter\u001b[0m\u001b[0;34m.\u001b[0m\u001b[0mfor_type\u001b[0m\u001b[0;34m(\u001b[0m\u001b[0mFigure\u001b[0m\u001b[0;34m,\u001b[0m \u001b[0;32mlambda\u001b[0m \u001b[0mfig\u001b[0m\u001b[0;34m:\u001b[0m \u001b[0mprint_figure\u001b[0m\u001b[0;34m(\u001b[0m\u001b[0mfig\u001b[0m\u001b[0;34m,\u001b[0m \u001b[0;34m'png'\u001b[0m\u001b[0;34m,\u001b[0m \u001b[0;34m**\u001b[0m\u001b[0mkwargs\u001b[0m\u001b[0;34m)\u001b[0m\u001b[0;34m)\u001b[0m\u001b[0;34m\u001b[0m\u001b[0;34m\u001b[0m\u001b[0m\n\u001b[0m\u001b[1;32m    242\u001b[0m     \u001b[0;32mif\u001b[0m \u001b[0;34m'retina'\u001b[0m \u001b[0;32min\u001b[0m \u001b[0mformats\u001b[0m \u001b[0;32mor\u001b[0m \u001b[0;34m'png2x'\u001b[0m \u001b[0;32min\u001b[0m \u001b[0mformats\u001b[0m\u001b[0;34m:\u001b[0m\u001b[0;34m\u001b[0m\u001b[0;34m\u001b[0m\u001b[0m\n\u001b[1;32m    243\u001b[0m         \u001b[0mpng_formatter\u001b[0m\u001b[0;34m.\u001b[0m\u001b[0mfor_type\u001b[0m\u001b[0;34m(\u001b[0m\u001b[0mFigure\u001b[0m\u001b[0;34m,\u001b[0m \u001b[0;32mlambda\u001b[0m \u001b[0mfig\u001b[0m\u001b[0;34m:\u001b[0m \u001b[0mretina_figure\u001b[0m\u001b[0;34m(\u001b[0m\u001b[0mfig\u001b[0m\u001b[0;34m,\u001b[0m \u001b[0;34m**\u001b[0m\u001b[0mkwargs\u001b[0m\u001b[0;34m)\u001b[0m\u001b[0;34m)\u001b[0m\u001b[0;34m\u001b[0m\u001b[0;34m\u001b[0m\u001b[0m\n",
            "\u001b[0;32m/usr/local/lib/python3.6/dist-packages/IPython/core/pylabtools.py\u001b[0m in \u001b[0;36mprint_figure\u001b[0;34m(fig, fmt, bbox_inches, **kwargs)\u001b[0m\n\u001b[1;32m    123\u001b[0m \u001b[0;34m\u001b[0m\u001b[0m\n\u001b[1;32m    124\u001b[0m     \u001b[0mbytes_io\u001b[0m \u001b[0;34m=\u001b[0m \u001b[0mBytesIO\u001b[0m\u001b[0;34m(\u001b[0m\u001b[0;34m)\u001b[0m\u001b[0;34m\u001b[0m\u001b[0;34m\u001b[0m\u001b[0m\n\u001b[0;32m--> 125\u001b[0;31m     \u001b[0mfig\u001b[0m\u001b[0;34m.\u001b[0m\u001b[0mcanvas\u001b[0m\u001b[0;34m.\u001b[0m\u001b[0mprint_figure\u001b[0m\u001b[0;34m(\u001b[0m\u001b[0mbytes_io\u001b[0m\u001b[0;34m,\u001b[0m \u001b[0;34m**\u001b[0m\u001b[0mkw\u001b[0m\u001b[0;34m)\u001b[0m\u001b[0;34m\u001b[0m\u001b[0;34m\u001b[0m\u001b[0m\n\u001b[0m\u001b[1;32m    126\u001b[0m     \u001b[0mdata\u001b[0m \u001b[0;34m=\u001b[0m \u001b[0mbytes_io\u001b[0m\u001b[0;34m.\u001b[0m\u001b[0mgetvalue\u001b[0m\u001b[0;34m(\u001b[0m\u001b[0;34m)\u001b[0m\u001b[0;34m\u001b[0m\u001b[0;34m\u001b[0m\u001b[0m\n\u001b[1;32m    127\u001b[0m     \u001b[0;32mif\u001b[0m \u001b[0mfmt\u001b[0m \u001b[0;34m==\u001b[0m \u001b[0;34m'svg'\u001b[0m\u001b[0;34m:\u001b[0m\u001b[0;34m\u001b[0m\u001b[0;34m\u001b[0m\u001b[0m\n",
            "\u001b[0;32m/usr/local/lib/python3.6/dist-packages/matplotlib/backend_bases.py\u001b[0m in \u001b[0;36mprint_figure\u001b[0;34m(self, filename, dpi, facecolor, edgecolor, orientation, format, **kwargs)\u001b[0m\n\u001b[1;32m   2214\u001b[0m                     \u001b[0morientation\u001b[0m\u001b[0;34m=\u001b[0m\u001b[0morientation\u001b[0m\u001b[0;34m,\u001b[0m\u001b[0;34m\u001b[0m\u001b[0;34m\u001b[0m\u001b[0m\n\u001b[1;32m   2215\u001b[0m                     \u001b[0mdryrun\u001b[0m\u001b[0;34m=\u001b[0m\u001b[0;32mTrue\u001b[0m\u001b[0;34m,\u001b[0m\u001b[0;34m\u001b[0m\u001b[0;34m\u001b[0m\u001b[0m\n\u001b[0;32m-> 2216\u001b[0;31m                     **kwargs)\n\u001b[0m\u001b[1;32m   2217\u001b[0m                 \u001b[0mrenderer\u001b[0m \u001b[0;34m=\u001b[0m \u001b[0mself\u001b[0m\u001b[0;34m.\u001b[0m\u001b[0mfigure\u001b[0m\u001b[0;34m.\u001b[0m\u001b[0m_cachedRenderer\u001b[0m\u001b[0;34m\u001b[0m\u001b[0;34m\u001b[0m\u001b[0m\n\u001b[1;32m   2218\u001b[0m                 \u001b[0mbbox_inches\u001b[0m \u001b[0;34m=\u001b[0m \u001b[0mself\u001b[0m\u001b[0;34m.\u001b[0m\u001b[0mfigure\u001b[0m\u001b[0;34m.\u001b[0m\u001b[0mget_tightbbox\u001b[0m\u001b[0;34m(\u001b[0m\u001b[0mrenderer\u001b[0m\u001b[0;34m)\u001b[0m\u001b[0;34m\u001b[0m\u001b[0;34m\u001b[0m\u001b[0m\n",
            "\u001b[0;32m/usr/local/lib/python3.6/dist-packages/matplotlib/backends/backend_agg.py\u001b[0m in \u001b[0;36mprint_png\u001b[0;34m(self, filename_or_obj, *args, **kwargs)\u001b[0m\n\u001b[1;32m    505\u001b[0m \u001b[0;34m\u001b[0m\u001b[0m\n\u001b[1;32m    506\u001b[0m     \u001b[0;32mdef\u001b[0m \u001b[0mprint_png\u001b[0m\u001b[0;34m(\u001b[0m\u001b[0mself\u001b[0m\u001b[0;34m,\u001b[0m \u001b[0mfilename_or_obj\u001b[0m\u001b[0;34m,\u001b[0m \u001b[0;34m*\u001b[0m\u001b[0margs\u001b[0m\u001b[0;34m,\u001b[0m \u001b[0;34m**\u001b[0m\u001b[0mkwargs\u001b[0m\u001b[0;34m)\u001b[0m\u001b[0;34m:\u001b[0m\u001b[0;34m\u001b[0m\u001b[0;34m\u001b[0m\u001b[0m\n\u001b[0;32m--> 507\u001b[0;31m         \u001b[0mFigureCanvasAgg\u001b[0m\u001b[0;34m.\u001b[0m\u001b[0mdraw\u001b[0m\u001b[0;34m(\u001b[0m\u001b[0mself\u001b[0m\u001b[0;34m)\u001b[0m\u001b[0;34m\u001b[0m\u001b[0;34m\u001b[0m\u001b[0m\n\u001b[0m\u001b[1;32m    508\u001b[0m         \u001b[0mrenderer\u001b[0m \u001b[0;34m=\u001b[0m \u001b[0mself\u001b[0m\u001b[0;34m.\u001b[0m\u001b[0mget_renderer\u001b[0m\u001b[0;34m(\u001b[0m\u001b[0;34m)\u001b[0m\u001b[0;34m\u001b[0m\u001b[0;34m\u001b[0m\u001b[0m\n\u001b[1;32m    509\u001b[0m         \u001b[0moriginal_dpi\u001b[0m \u001b[0;34m=\u001b[0m \u001b[0mrenderer\u001b[0m\u001b[0;34m.\u001b[0m\u001b[0mdpi\u001b[0m\u001b[0;34m\u001b[0m\u001b[0;34m\u001b[0m\u001b[0m\n",
            "\u001b[0;32m/usr/local/lib/python3.6/dist-packages/matplotlib/backends/backend_agg.py\u001b[0m in \u001b[0;36mdraw\u001b[0;34m(self)\u001b[0m\n\u001b[1;32m    428\u001b[0m             \u001b[0;31m# if toolbar:\u001b[0m\u001b[0;34m\u001b[0m\u001b[0;34m\u001b[0m\u001b[0;34m\u001b[0m\u001b[0m\n\u001b[1;32m    429\u001b[0m             \u001b[0;31m#     toolbar.set_cursor(cursors.WAIT)\u001b[0m\u001b[0;34m\u001b[0m\u001b[0;34m\u001b[0m\u001b[0;34m\u001b[0m\u001b[0m\n\u001b[0;32m--> 430\u001b[0;31m             \u001b[0mself\u001b[0m\u001b[0;34m.\u001b[0m\u001b[0mfigure\u001b[0m\u001b[0;34m.\u001b[0m\u001b[0mdraw\u001b[0m\u001b[0;34m(\u001b[0m\u001b[0mself\u001b[0m\u001b[0;34m.\u001b[0m\u001b[0mrenderer\u001b[0m\u001b[0;34m)\u001b[0m\u001b[0;34m\u001b[0m\u001b[0;34m\u001b[0m\u001b[0m\n\u001b[0m\u001b[1;32m    431\u001b[0m         \u001b[0;32mfinally\u001b[0m\u001b[0;34m:\u001b[0m\u001b[0;34m\u001b[0m\u001b[0;34m\u001b[0m\u001b[0m\n\u001b[1;32m    432\u001b[0m             \u001b[0;31m# if toolbar:\u001b[0m\u001b[0;34m\u001b[0m\u001b[0;34m\u001b[0m\u001b[0;34m\u001b[0m\u001b[0m\n",
            "\u001b[0;32m/usr/local/lib/python3.6/dist-packages/matplotlib/artist.py\u001b[0m in \u001b[0;36mdraw_wrapper\u001b[0;34m(artist, renderer, *args, **kwargs)\u001b[0m\n\u001b[1;32m     53\u001b[0m                 \u001b[0mrenderer\u001b[0m\u001b[0;34m.\u001b[0m\u001b[0mstart_filter\u001b[0m\u001b[0;34m(\u001b[0m\u001b[0;34m)\u001b[0m\u001b[0;34m\u001b[0m\u001b[0;34m\u001b[0m\u001b[0m\n\u001b[1;32m     54\u001b[0m \u001b[0;34m\u001b[0m\u001b[0m\n\u001b[0;32m---> 55\u001b[0;31m             \u001b[0;32mreturn\u001b[0m \u001b[0mdraw\u001b[0m\u001b[0;34m(\u001b[0m\u001b[0martist\u001b[0m\u001b[0;34m,\u001b[0m \u001b[0mrenderer\u001b[0m\u001b[0;34m,\u001b[0m \u001b[0;34m*\u001b[0m\u001b[0margs\u001b[0m\u001b[0;34m,\u001b[0m \u001b[0;34m**\u001b[0m\u001b[0mkwargs\u001b[0m\u001b[0;34m)\u001b[0m\u001b[0;34m\u001b[0m\u001b[0;34m\u001b[0m\u001b[0m\n\u001b[0m\u001b[1;32m     56\u001b[0m         \u001b[0;32mfinally\u001b[0m\u001b[0;34m:\u001b[0m\u001b[0;34m\u001b[0m\u001b[0;34m\u001b[0m\u001b[0m\n\u001b[1;32m     57\u001b[0m             \u001b[0;32mif\u001b[0m \u001b[0martist\u001b[0m\u001b[0;34m.\u001b[0m\u001b[0mget_agg_filter\u001b[0m\u001b[0;34m(\u001b[0m\u001b[0;34m)\u001b[0m \u001b[0;32mis\u001b[0m \u001b[0;32mnot\u001b[0m \u001b[0;32mNone\u001b[0m\u001b[0;34m:\u001b[0m\u001b[0;34m\u001b[0m\u001b[0;34m\u001b[0m\u001b[0m\n",
            "\u001b[0;32m/usr/local/lib/python3.6/dist-packages/matplotlib/figure.py\u001b[0m in \u001b[0;36mdraw\u001b[0;34m(self, renderer)\u001b[0m\n\u001b[1;32m   1297\u001b[0m \u001b[0;34m\u001b[0m\u001b[0m\n\u001b[1;32m   1298\u001b[0m             mimage._draw_list_compositing_images(\n\u001b[0;32m-> 1299\u001b[0;31m                 renderer, self, artists, self.suppressComposite)\n\u001b[0m\u001b[1;32m   1300\u001b[0m \u001b[0;34m\u001b[0m\u001b[0m\n\u001b[1;32m   1301\u001b[0m             \u001b[0mrenderer\u001b[0m\u001b[0;34m.\u001b[0m\u001b[0mclose_group\u001b[0m\u001b[0;34m(\u001b[0m\u001b[0;34m'figure'\u001b[0m\u001b[0;34m)\u001b[0m\u001b[0;34m\u001b[0m\u001b[0;34m\u001b[0m\u001b[0m\n",
            "\u001b[0;32m/usr/local/lib/python3.6/dist-packages/matplotlib/image.py\u001b[0m in \u001b[0;36m_draw_list_compositing_images\u001b[0;34m(renderer, parent, artists, suppress_composite)\u001b[0m\n\u001b[1;32m    136\u001b[0m     \u001b[0;32mif\u001b[0m \u001b[0mnot_composite\u001b[0m \u001b[0;32mor\u001b[0m \u001b[0;32mnot\u001b[0m \u001b[0mhas_images\u001b[0m\u001b[0;34m:\u001b[0m\u001b[0;34m\u001b[0m\u001b[0;34m\u001b[0m\u001b[0m\n\u001b[1;32m    137\u001b[0m         \u001b[0;32mfor\u001b[0m \u001b[0ma\u001b[0m \u001b[0;32min\u001b[0m \u001b[0martists\u001b[0m\u001b[0;34m:\u001b[0m\u001b[0;34m\u001b[0m\u001b[0;34m\u001b[0m\u001b[0m\n\u001b[0;32m--> 138\u001b[0;31m             \u001b[0ma\u001b[0m\u001b[0;34m.\u001b[0m\u001b[0mdraw\u001b[0m\u001b[0;34m(\u001b[0m\u001b[0mrenderer\u001b[0m\u001b[0;34m)\u001b[0m\u001b[0;34m\u001b[0m\u001b[0;34m\u001b[0m\u001b[0m\n\u001b[0m\u001b[1;32m    139\u001b[0m     \u001b[0;32melse\u001b[0m\u001b[0;34m:\u001b[0m\u001b[0;34m\u001b[0m\u001b[0;34m\u001b[0m\u001b[0m\n\u001b[1;32m    140\u001b[0m         \u001b[0;31m# Composite any adjacent images together\u001b[0m\u001b[0;34m\u001b[0m\u001b[0;34m\u001b[0m\u001b[0;34m\u001b[0m\u001b[0m\n",
            "\u001b[0;32m/usr/local/lib/python3.6/dist-packages/matplotlib/artist.py\u001b[0m in \u001b[0;36mdraw_wrapper\u001b[0;34m(artist, renderer, *args, **kwargs)\u001b[0m\n\u001b[1;32m     53\u001b[0m                 \u001b[0mrenderer\u001b[0m\u001b[0;34m.\u001b[0m\u001b[0mstart_filter\u001b[0m\u001b[0;34m(\u001b[0m\u001b[0;34m)\u001b[0m\u001b[0;34m\u001b[0m\u001b[0;34m\u001b[0m\u001b[0m\n\u001b[1;32m     54\u001b[0m \u001b[0;34m\u001b[0m\u001b[0m\n\u001b[0;32m---> 55\u001b[0;31m             \u001b[0;32mreturn\u001b[0m \u001b[0mdraw\u001b[0m\u001b[0;34m(\u001b[0m\u001b[0martist\u001b[0m\u001b[0;34m,\u001b[0m \u001b[0mrenderer\u001b[0m\u001b[0;34m,\u001b[0m \u001b[0;34m*\u001b[0m\u001b[0margs\u001b[0m\u001b[0;34m,\u001b[0m \u001b[0;34m**\u001b[0m\u001b[0mkwargs\u001b[0m\u001b[0;34m)\u001b[0m\u001b[0;34m\u001b[0m\u001b[0;34m\u001b[0m\u001b[0m\n\u001b[0m\u001b[1;32m     56\u001b[0m         \u001b[0;32mfinally\u001b[0m\u001b[0;34m:\u001b[0m\u001b[0;34m\u001b[0m\u001b[0;34m\u001b[0m\u001b[0m\n\u001b[1;32m     57\u001b[0m             \u001b[0;32mif\u001b[0m \u001b[0martist\u001b[0m\u001b[0;34m.\u001b[0m\u001b[0mget_agg_filter\u001b[0m\u001b[0;34m(\u001b[0m\u001b[0;34m)\u001b[0m \u001b[0;32mis\u001b[0m \u001b[0;32mnot\u001b[0m \u001b[0;32mNone\u001b[0m\u001b[0;34m:\u001b[0m\u001b[0;34m\u001b[0m\u001b[0;34m\u001b[0m\u001b[0m\n",
            "\u001b[0;32m/usr/local/lib/python3.6/dist-packages/matplotlib/axes/_base.py\u001b[0m in \u001b[0;36mdraw\u001b[0;34m(self, renderer, inframe)\u001b[0m\n\u001b[1;32m   2435\u001b[0m             \u001b[0mrenderer\u001b[0m\u001b[0;34m.\u001b[0m\u001b[0mstop_rasterizing\u001b[0m\u001b[0;34m(\u001b[0m\u001b[0;34m)\u001b[0m\u001b[0;34m\u001b[0m\u001b[0;34m\u001b[0m\u001b[0m\n\u001b[1;32m   2436\u001b[0m \u001b[0;34m\u001b[0m\u001b[0m\n\u001b[0;32m-> 2437\u001b[0;31m         \u001b[0mmimage\u001b[0m\u001b[0;34m.\u001b[0m\u001b[0m_draw_list_compositing_images\u001b[0m\u001b[0;34m(\u001b[0m\u001b[0mrenderer\u001b[0m\u001b[0;34m,\u001b[0m \u001b[0mself\u001b[0m\u001b[0;34m,\u001b[0m \u001b[0martists\u001b[0m\u001b[0;34m)\u001b[0m\u001b[0;34m\u001b[0m\u001b[0;34m\u001b[0m\u001b[0m\n\u001b[0m\u001b[1;32m   2438\u001b[0m \u001b[0;34m\u001b[0m\u001b[0m\n\u001b[1;32m   2439\u001b[0m         \u001b[0mrenderer\u001b[0m\u001b[0;34m.\u001b[0m\u001b[0mclose_group\u001b[0m\u001b[0;34m(\u001b[0m\u001b[0;34m'axes'\u001b[0m\u001b[0;34m)\u001b[0m\u001b[0;34m\u001b[0m\u001b[0;34m\u001b[0m\u001b[0m\n",
            "\u001b[0;32m/usr/local/lib/python3.6/dist-packages/matplotlib/image.py\u001b[0m in \u001b[0;36m_draw_list_compositing_images\u001b[0;34m(renderer, parent, artists, suppress_composite)\u001b[0m\n\u001b[1;32m    136\u001b[0m     \u001b[0;32mif\u001b[0m \u001b[0mnot_composite\u001b[0m \u001b[0;32mor\u001b[0m \u001b[0;32mnot\u001b[0m \u001b[0mhas_images\u001b[0m\u001b[0;34m:\u001b[0m\u001b[0;34m\u001b[0m\u001b[0;34m\u001b[0m\u001b[0m\n\u001b[1;32m    137\u001b[0m         \u001b[0;32mfor\u001b[0m \u001b[0ma\u001b[0m \u001b[0;32min\u001b[0m \u001b[0martists\u001b[0m\u001b[0;34m:\u001b[0m\u001b[0;34m\u001b[0m\u001b[0;34m\u001b[0m\u001b[0m\n\u001b[0;32m--> 138\u001b[0;31m             \u001b[0ma\u001b[0m\u001b[0;34m.\u001b[0m\u001b[0mdraw\u001b[0m\u001b[0;34m(\u001b[0m\u001b[0mrenderer\u001b[0m\u001b[0;34m)\u001b[0m\u001b[0;34m\u001b[0m\u001b[0;34m\u001b[0m\u001b[0m\n\u001b[0m\u001b[1;32m    139\u001b[0m     \u001b[0;32melse\u001b[0m\u001b[0;34m:\u001b[0m\u001b[0;34m\u001b[0m\u001b[0;34m\u001b[0m\u001b[0m\n\u001b[1;32m    140\u001b[0m         \u001b[0;31m# Composite any adjacent images together\u001b[0m\u001b[0;34m\u001b[0m\u001b[0;34m\u001b[0m\u001b[0;34m\u001b[0m\u001b[0m\n",
            "\u001b[0;32m/usr/local/lib/python3.6/dist-packages/matplotlib/artist.py\u001b[0m in \u001b[0;36mdraw_wrapper\u001b[0;34m(artist, renderer, *args, **kwargs)\u001b[0m\n\u001b[1;32m     53\u001b[0m                 \u001b[0mrenderer\u001b[0m\u001b[0;34m.\u001b[0m\u001b[0mstart_filter\u001b[0m\u001b[0;34m(\u001b[0m\u001b[0;34m)\u001b[0m\u001b[0;34m\u001b[0m\u001b[0;34m\u001b[0m\u001b[0m\n\u001b[1;32m     54\u001b[0m \u001b[0;34m\u001b[0m\u001b[0m\n\u001b[0;32m---> 55\u001b[0;31m             \u001b[0;32mreturn\u001b[0m \u001b[0mdraw\u001b[0m\u001b[0;34m(\u001b[0m\u001b[0martist\u001b[0m\u001b[0;34m,\u001b[0m \u001b[0mrenderer\u001b[0m\u001b[0;34m,\u001b[0m \u001b[0;34m*\u001b[0m\u001b[0margs\u001b[0m\u001b[0;34m,\u001b[0m \u001b[0;34m**\u001b[0m\u001b[0mkwargs\u001b[0m\u001b[0;34m)\u001b[0m\u001b[0;34m\u001b[0m\u001b[0;34m\u001b[0m\u001b[0m\n\u001b[0m\u001b[1;32m     56\u001b[0m         \u001b[0;32mfinally\u001b[0m\u001b[0;34m:\u001b[0m\u001b[0;34m\u001b[0m\u001b[0;34m\u001b[0m\u001b[0m\n\u001b[1;32m     57\u001b[0m             \u001b[0;32mif\u001b[0m \u001b[0martist\u001b[0m\u001b[0;34m.\u001b[0m\u001b[0mget_agg_filter\u001b[0m\u001b[0;34m(\u001b[0m\u001b[0;34m)\u001b[0m \u001b[0;32mis\u001b[0m \u001b[0;32mnot\u001b[0m \u001b[0;32mNone\u001b[0m\u001b[0;34m:\u001b[0m\u001b[0;34m\u001b[0m\u001b[0;34m\u001b[0m\u001b[0m\n",
            "\u001b[0;32m/usr/local/lib/python3.6/dist-packages/matplotlib/image.py\u001b[0m in \u001b[0;36mdraw\u001b[0;34m(self, renderer, *args, **kwargs)\u001b[0m\n\u001b[1;32m    564\u001b[0m         \u001b[0;32melse\u001b[0m\u001b[0;34m:\u001b[0m\u001b[0;34m\u001b[0m\u001b[0;34m\u001b[0m\u001b[0m\n\u001b[1;32m    565\u001b[0m             im, l, b, trans = self.make_image(\n\u001b[0;32m--> 566\u001b[0;31m                 renderer, renderer.get_image_magnification())\n\u001b[0m\u001b[1;32m    567\u001b[0m             \u001b[0;32mif\u001b[0m \u001b[0mim\u001b[0m \u001b[0;32mis\u001b[0m \u001b[0;32mnot\u001b[0m \u001b[0;32mNone\u001b[0m\u001b[0;34m:\u001b[0m\u001b[0;34m\u001b[0m\u001b[0;34m\u001b[0m\u001b[0m\n\u001b[1;32m    568\u001b[0m                 \u001b[0mrenderer\u001b[0m\u001b[0;34m.\u001b[0m\u001b[0mdraw_image\u001b[0m\u001b[0;34m(\u001b[0m\u001b[0mgc\u001b[0m\u001b[0;34m,\u001b[0m \u001b[0ml\u001b[0m\u001b[0;34m,\u001b[0m \u001b[0mb\u001b[0m\u001b[0;34m,\u001b[0m \u001b[0mim\u001b[0m\u001b[0;34m)\u001b[0m\u001b[0;34m\u001b[0m\u001b[0;34m\u001b[0m\u001b[0m\n",
            "\u001b[0;32m/usr/local/lib/python3.6/dist-packages/matplotlib/image.py\u001b[0m in \u001b[0;36mmake_image\u001b[0;34m(self, renderer, magnification, unsampled)\u001b[0m\n\u001b[1;32m    791\u001b[0m         return self._make_image(\n\u001b[1;32m    792\u001b[0m             \u001b[0mself\u001b[0m\u001b[0;34m.\u001b[0m\u001b[0m_A\u001b[0m\u001b[0;34m,\u001b[0m \u001b[0mbbox\u001b[0m\u001b[0;34m,\u001b[0m \u001b[0mtransformed_bbox\u001b[0m\u001b[0;34m,\u001b[0m \u001b[0mself\u001b[0m\u001b[0;34m.\u001b[0m\u001b[0maxes\u001b[0m\u001b[0;34m.\u001b[0m\u001b[0mbbox\u001b[0m\u001b[0;34m,\u001b[0m \u001b[0mmagnification\u001b[0m\u001b[0;34m,\u001b[0m\u001b[0;34m\u001b[0m\u001b[0;34m\u001b[0m\u001b[0m\n\u001b[0;32m--> 793\u001b[0;31m             unsampled=unsampled)\n\u001b[0m\u001b[1;32m    794\u001b[0m \u001b[0;34m\u001b[0m\u001b[0m\n\u001b[1;32m    795\u001b[0m     \u001b[0;32mdef\u001b[0m \u001b[0m_check_unsampled_image\u001b[0m\u001b[0;34m(\u001b[0m\u001b[0mself\u001b[0m\u001b[0;34m,\u001b[0m \u001b[0mrenderer\u001b[0m\u001b[0;34m)\u001b[0m\u001b[0;34m:\u001b[0m\u001b[0;34m\u001b[0m\u001b[0;34m\u001b[0m\u001b[0m\n",
            "\u001b[0;32m/usr/local/lib/python3.6/dist-packages/matplotlib/image.py\u001b[0m in \u001b[0;36m_make_image\u001b[0;34m(self, A, in_bbox, out_bbox, clip_bbox, magnification, unsampled, round_to_pixel_border)\u001b[0m\n\u001b[1;32m    482\u001b[0m             \u001b[0;31m# (of int or float)\u001b[0m\u001b[0;34m\u001b[0m\u001b[0;34m\u001b[0m\u001b[0;34m\u001b[0m\u001b[0m\n\u001b[1;32m    483\u001b[0m             \u001b[0;31m# or an RGBA array of re-sampled input\u001b[0m\u001b[0;34m\u001b[0m\u001b[0;34m\u001b[0m\u001b[0;34m\u001b[0m\u001b[0m\n\u001b[0;32m--> 484\u001b[0;31m             \u001b[0moutput\u001b[0m \u001b[0;34m=\u001b[0m \u001b[0mself\u001b[0m\u001b[0;34m.\u001b[0m\u001b[0mto_rgba\u001b[0m\u001b[0;34m(\u001b[0m\u001b[0moutput\u001b[0m\u001b[0;34m,\u001b[0m \u001b[0mbytes\u001b[0m\u001b[0;34m=\u001b[0m\u001b[0;32mTrue\u001b[0m\u001b[0;34m,\u001b[0m \u001b[0mnorm\u001b[0m\u001b[0;34m=\u001b[0m\u001b[0;32mFalse\u001b[0m\u001b[0;34m)\u001b[0m\u001b[0;34m\u001b[0m\u001b[0;34m\u001b[0m\u001b[0m\n\u001b[0m\u001b[1;32m    485\u001b[0m             \u001b[0;31m# output is now a correctly sized RGBA array of uint8\u001b[0m\u001b[0;34m\u001b[0m\u001b[0;34m\u001b[0m\u001b[0;34m\u001b[0m\u001b[0m\n\u001b[1;32m    486\u001b[0m \u001b[0;34m\u001b[0m\u001b[0m\n",
            "\u001b[0;32m/usr/local/lib/python3.6/dist-packages/matplotlib/cm.py\u001b[0m in \u001b[0;36mto_rgba\u001b[0;34m(self, x, alpha, bytes, norm)\u001b[0m\n\u001b[1;32m    255\u001b[0m                 \u001b[0;32mif\u001b[0m \u001b[0mxx\u001b[0m\u001b[0;34m.\u001b[0m\u001b[0mdtype\u001b[0m\u001b[0;34m.\u001b[0m\u001b[0mkind\u001b[0m \u001b[0;34m==\u001b[0m \u001b[0;34m'f'\u001b[0m\u001b[0;34m:\u001b[0m\u001b[0;34m\u001b[0m\u001b[0;34m\u001b[0m\u001b[0m\n\u001b[1;32m    256\u001b[0m                     \u001b[0;32mif\u001b[0m \u001b[0mnorm\u001b[0m \u001b[0;32mand\u001b[0m \u001b[0mxx\u001b[0m\u001b[0;34m.\u001b[0m\u001b[0mmax\u001b[0m\u001b[0;34m(\u001b[0m\u001b[0;34m)\u001b[0m \u001b[0;34m>\u001b[0m \u001b[0;36m1\u001b[0m \u001b[0;32mor\u001b[0m \u001b[0mxx\u001b[0m\u001b[0;34m.\u001b[0m\u001b[0mmin\u001b[0m\u001b[0;34m(\u001b[0m\u001b[0;34m)\u001b[0m \u001b[0;34m<\u001b[0m \u001b[0;36m0\u001b[0m\u001b[0;34m:\u001b[0m\u001b[0;34m\u001b[0m\u001b[0;34m\u001b[0m\u001b[0m\n\u001b[0;32m--> 257\u001b[0;31m                         raise ValueError(\"Floating point image RGB values \"\n\u001b[0m\u001b[1;32m    258\u001b[0m                                          \"must be in the 0..1 range.\")\n\u001b[1;32m    259\u001b[0m                     \u001b[0;32mif\u001b[0m \u001b[0mbytes\u001b[0m\u001b[0;34m:\u001b[0m\u001b[0;34m\u001b[0m\u001b[0;34m\u001b[0m\u001b[0m\n",
            "\u001b[0;31mValueError\u001b[0m: Floating point image RGB values must be in the 0..1 range."
          ]
        },
        {
          "output_type": "display_data",
          "data": {
            "text/plain": [
              "<matplotlib.figure.Figure at 0x7f1fa0e72588>"
            ]
          },
          "metadata": {
            "tags": []
          }
        },
        {
          "output_type": "stream",
          "text": [
            "sedan sedan sedan hatchback sedan hatchback sedan sedan sedan sedan minivan sedan sedan sedan sedan sedan sedan sedan sedan  jeep sedan sedan sedan sedan sedan sedan sedan sedan hatchback sedan crane truck  jeep\n"
          ],
          "name": "stdout"
        }
      ]
    },
    {
      "metadata": {
        "id": "rRIiWuudnvw2",
        "colab_type": "text"
      },
      "cell_type": "markdown",
      "source": [
        "# ResNet-18"
      ]
    },
    {
      "metadata": {
        "id": "g2yWCC_13PSi",
        "colab_type": "code",
        "colab": {}
      },
      "cell_type": "code",
      "source": [
        "#reference:https://pytorch.org/tutorials/beginner/finetuning_torchvision_models_tutorial.html\n",
        "# load pre-trained model\n",
        "#####################################################\n",
        "#download pretrained ResNet\n",
        "import torchvision.models as models\n",
        "model_res18 = models.resnet18(pretrained=True)\n",
        "    \n",
        "#get the number of input features of final layer\n",
        "num = model_res18.fc.in_features\n",
        "\n",
        "#update the input and output features of final layer\n",
        "model_res18.fc = torch.nn.Linear(num, 15)\n",
        "#model_res18.avgpool = torch.nn.MaxPool2d(2)\n",
        "model_res18 = model_res18.cuda()"
      ],
      "execution_count": 0,
      "outputs": []
    },
    {
      "metadata": {
        "id": "jD86ZERMn096",
        "colab_type": "text"
      },
      "cell_type": "markdown",
      "source": [
        "# Optimizer and Criterion"
      ]
    },
    {
      "metadata": {
        "id": "OWt--3Ia3hnr",
        "colab_type": "code",
        "colab": {}
      },
      "cell_type": "code",
      "source": [
        "from torch import optim\n",
        "optimizer = optim.Adam(model_res18.parameters(), lr=0.001)\n",
        "criterion = torch.nn.CrossEntropyLoss()"
      ],
      "execution_count": 0,
      "outputs": []
    },
    {
      "metadata": {
        "id": "1cgm71Rfn4QC",
        "colab_type": "text"
      },
      "cell_type": "markdown",
      "source": [
        "# Training"
      ]
    },
    {
      "metadata": {
        "id": "yPnZulciR_xl",
        "colab_type": "code",
        "outputId": "1951a6a3-fed2-4f01-8fad-6da1b4356d3d",
        "colab": {
          "base_uri": "https://localhost:8080/",
          "height": 1431
        }
      },
      "cell_type": "code",
      "source": [
        "#reference:https://pytorch.org/tutorials/beginner/finetuning_torchvision_models_tutorial.html\n",
        "#https://colab.research.google.com/drive/1qfgk854zE2xgaImq5bF8X2mROMIAE1_F\n",
        "def train(epoch):\n",
        "  model_res18.train()\n",
        "  running_loss = 0.0\n",
        "  r_loss=[]\n",
        "  for batch_idx, (data,target) in enumerate(train_loader):\n",
        "    data, target= data.cuda(), target.cuda()\n",
        "    optimizer.zero_grad()\n",
        "    output=model_res18(data)\n",
        "\n",
        "    loss = criterion(output, target)\n",
        "    loss.backward()\n",
        "    optimizer.step()\n",
        "    torch.save({\n",
        "        'epoch': epoch,\n",
        "        'model_state_dict': model_res18.state_dict(),\n",
        "        'optimizer_state_dict': optimizer.state_dict(),\n",
        "        'loss': loss,\n",
        "        }, 'drive/My Drive/Colab Notebooks/project_data/project_final_custom')\n",
        "    # print statistics\n",
        "    running_loss += loss.item()\n",
        "    \n",
        "    if batch_idx % 100 == 99:    # print every 100 mini-batches\n",
        "        print('[%d, %5d] loss: %.3f' % (epoch + 1, batch_idx + 1, running_loss / 100))\n",
        "        r_loss.append(running_loss / 100)\n",
        "        running_loss = 0.0\n",
        "        \n",
        "  return r_loss\n",
        "\n",
        "#if model exists\n",
        "if not os.path.exists('drive/My Drive/Colab Notebooks/project_data/project_final_custom'):\n",
        "  print(\"The model does not exist. Please check the path provided in the line above!\")\n",
        "  #uncomment the following code to train the model.\n",
        "  ###########################\n",
        "  '''r_loss=[]\n",
        "  for epoch in range(0, 20):\n",
        "      r_loss.append(train(epoch))\n",
        "  a = [item for sublist in r_loss for item in sublist]\n",
        "  plt.plot(a)'''\n",
        "  ###########################\n",
        "else:\n",
        "  #Load saved model\n",
        "  checkpoint = torch.load('drive/My Drive/Colab Notebooks/project_data/project_final_custom')\n",
        "  model_res18.load_state_dict(checkpoint['model_state_dict'])\n",
        "  optimizer.load_state_dict(checkpoint['optimizer_state_dict'])\n",
        "  epoch = checkpoint['epoch']\n",
        "  loss = checkpoint['loss']\n",
        "\n",
        "  model_res18.eval()\n",
        "  # - or -\n",
        "  #model.train()\n",
        "\n",
        "\n",
        "\n",
        "    "
      ],
      "execution_count": 0,
      "outputs": [
        {
          "output_type": "stream",
          "text": [
            "The model does not exist. Please check the path provided in the line above!\n",
            "[1,   100] loss: 1.273\n",
            "[1,   200] loss: 1.081\n",
            "[1,   300] loss: 1.027\n",
            "[2,   100] loss: 0.987\n",
            "[2,   200] loss: 0.951\n",
            "[2,   300] loss: 0.938\n",
            "[3,   100] loss: 0.896\n",
            "[3,   200] loss: 0.898\n",
            "[3,   300] loss: 0.877\n",
            "[4,   100] loss: 0.839\n",
            "[4,   200] loss: 0.850\n",
            "[4,   300] loss: 0.857\n",
            "[5,   100] loss: 0.838\n",
            "[5,   200] loss: 0.806\n",
            "[5,   300] loss: 0.831\n",
            "[6,   100] loss: 0.783\n",
            "[6,   200] loss: 0.740\n",
            "[6,   300] loss: 0.798\n",
            "[7,   100] loss: 0.718\n",
            "[7,   200] loss: 0.767\n",
            "[7,   300] loss: 0.762\n",
            "[8,   100] loss: 0.734\n",
            "[8,   200] loss: 0.707\n",
            "[8,   300] loss: 0.729\n",
            "[9,   100] loss: 0.691\n",
            "[9,   200] loss: 0.715\n",
            "[9,   300] loss: 0.708\n",
            "[10,   100] loss: 0.665\n",
            "[10,   200] loss: 0.665\n",
            "[10,   300] loss: 0.662\n",
            "[11,   100] loss: 0.624\n",
            "[11,   200] loss: 0.674\n",
            "[11,   300] loss: 0.653\n",
            "[12,   100] loss: 0.602\n",
            "[12,   200] loss: 0.586\n",
            "[12,   300] loss: 0.611\n",
            "[13,   100] loss: 0.567\n",
            "[13,   200] loss: 0.572\n",
            "[13,   300] loss: 0.605\n",
            "[14,   100] loss: 0.527\n",
            "[14,   200] loss: 0.546\n",
            "[14,   300] loss: 0.563\n",
            "[15,   100] loss: 0.461\n",
            "[15,   200] loss: 0.510\n",
            "[15,   300] loss: 0.555\n",
            "[16,   100] loss: 0.458\n",
            "[16,   200] loss: 0.475\n",
            "[16,   300] loss: 0.499\n",
            "[17,   100] loss: 0.405\n",
            "[17,   200] loss: 0.437\n",
            "[17,   300] loss: 0.441\n",
            "[18,   100] loss: 0.371\n",
            "[18,   200] loss: 0.418\n",
            "[18,   300] loss: 0.418\n",
            "[19,   100] loss: 0.351\n",
            "[19,   200] loss: 0.347\n",
            "[19,   300] loss: 0.388\n",
            "[20,   100] loss: 0.313\n",
            "[20,   200] loss: 0.287\n",
            "[20,   300] loss: 0.341\n"
          ],
          "name": "stdout"
        },
        {
          "output_type": "display_data",
          "data": {
            "image/png": "[encoded data removed]",
            "text/plain": [
              "<matplotlib.figure.Figure at 0x7f1fa0c6ec18>"
            ]
          },
          "metadata": {
            "tags": []
          }
        }
      ]
    },
    {
      "metadata": {
        "id": "bL_3TPkHpdP4",
        "colab_type": "text"
      },
      "cell_type": "markdown",
      "source": [
        "***Accuracy***\n",
        "\n",
        "---\n",
        "\n"
      ]
    },
    {
      "metadata": {
        "id": "Ea6rXrMH5vF3",
        "colab_type": "code",
        "outputId": "946449f5-12c6-4cf0-8da7-44a7e455f411",
        "colab": {
          "base_uri": "https://localhost:8080/",
          "height": 498
        }
      },
      "cell_type": "code",
      "source": [
        "# content of this cell is copied from https://github.com/pytorch/tutorials/blob/master/beginner_source/blitz/cifar10_tutorial.py\n",
        "correct = 0\n",
        "total = 0\n",
        "predictions = []\n",
        "true_labels = []\n",
        "model_res18.eval()\n",
        "with torch.no_grad():\n",
        "    for data in train_loader:\n",
        "        images, labels = data\n",
        "        images = images.cuda()\n",
        "        labels = labels.cuda()\n",
        "        outputs = model_res18(images)\n",
        "        _, predicted = torch.max(outputs.data, 1)\n",
        "        predictions.append(np.ravel(predicted.cpu().numpy()))\n",
        "        true_labels.append(np.ravel(labels.cpu().numpy()))\n",
        "        total += labels.size(0)\n",
        "        correct += (predicted == labels).sum().item()\n",
        "\n",
        "print('Accuracy of the network on the train images: %d %%' % (\n",
        "    100 * correct / total))\n",
        "predictions = np.concatenate(predictions)\n",
        "true_labels = np.concatenate(true_labels)\n",
        "\n",
        "def conf_matrix(true_labels, predictions):\n",
        "  #heatmap of confusion matrix\n",
        "  from sklearn.metrics import confusion_matrix\n",
        "  import seaborn as sns; sns.set()\n",
        "  conf_mat = confusion_matrix(predictions, true_labels)\n",
        "  sns.heatmap(conf_mat.T, square=True, annot=True, fmt='d', cbar=False, xticklabels=le.classes_, yticklabels=le.classes_)\n",
        "  plt.xlabel('true label')\n",
        "  plt.ylabel('predicted label')\n",
        "  plt.show()\n",
        "conf_matrix(true_labels, predictions)"
      ],
      "execution_count": 0,
      "outputs": [
        {
          "output_type": "stream",
          "text": [
            "Accuracy of the network on the train images: 91 %\n"
          ],
          "name": "stdout"
        },
        {
          "output_type": "display_data",
          "data": {
            "image/png": "[encoded data removed]",
            "text/plain": [
              "<matplotlib.figure.Figure at 0x7f1fa0c6ef60>"
            ]
          },
          "metadata": {
            "tags": []
          }
        }
      ]
    },
    {
      "metadata": {
        "id": "dSWTXT0Nn7_c",
        "colab_type": "text"
      },
      "cell_type": "markdown",
      "source": [
        "# Validation"
      ]
    },
    {
      "metadata": {
        "id": "GrdO472mnRoZ",
        "colab_type": "code",
        "outputId": "325b6f39-f603-447f-ebd9-7a1e162b794d",
        "colab": {
          "base_uri": "https://localhost:8080/",
          "height": 266
        }
      },
      "cell_type": "code",
      "source": [
        "# content of this cell is copied from https://github.com/pytorch/tutorials/blob/master/beginner_source/blitz/cifar10_tutorial.py\n",
        "correct = 0\n",
        "total = 0\n",
        "predictions = []\n",
        "true_labels = []\n",
        "model_res18.eval()\n",
        "with torch.no_grad():\n",
        "    for data in validation_loader:\n",
        "        images, labels = data\n",
        "        images = images.cuda()\n",
        "        labels = labels.cuda()\n",
        "        outputs = model_res18(images)\n",
        "        _, predicted = torch.max(outputs.data, 1)\n",
        "        predictions.append(np.ravel(predicted.cpu().numpy()))\n",
        "        true_labels.append(np.ravel(labels.cpu().numpy()))\n",
        "        total += labels.size(0)\n",
        "        correct += (predicted == labels).sum().item()\n",
        "\n",
        "print('Accuracy of the network on the validation images: %d %%' % (\n",
        "    100 * correct / total))\n",
        "predictions = np.concatenate(predictions)\n",
        "true_labels = np.concatenate(true_labels)\n",
        "\n",
        "def conf_matrix(true_labels, predictions):\n",
        "  #heatmap of confusion matrix\n",
        "  from sklearn.metrics import confusion_matrix\n",
        "  import seaborn as sns; sns.set()\n",
        "  conf_mat = confusion_matrix(predictions, true_labels)\n",
        "  print(conf_mat)\n",
        "\n",
        "conf_matrix(true_labels, predictions)"
      ],
      "execution_count": 0,
      "outputs": [
        {
          "output_type": "stream",
          "text": [
            "Accuracy of the network on the validation images: 71 %\n",
            "[[  2   0   0   0   0   0   0   0   0   0   0   0   0]\n",
            " [  0   1   0   0   0   0   0   0   0   0   0   0   0]\n",
            " [  0   0   0   0   0   0   0   0   0   0   0   0   0]\n",
            " [  0   0   0 103  23   2   0   7   5   0  23   0   2]\n",
            " [  0   0   0  13  14   1   0   4   4   0   6   0   0]\n",
            " [  0   0   0   1   0   4   0   0   0   0   0   1   0]\n",
            " [  0   0   0   0   0   0   0   0   0   0   0   0   0]\n",
            " [  0   0   0   6   3   0   0  12   4   0   0   0   7]\n",
            " [  0   0   0   1   1   1   0   0   8   0   2   0   0]\n",
            " [  0   0   0   0   0   0   0   0   0   1   0   0   0]\n",
            " [  0   0   0  30   3   0   0   3   1   0 258   0   2]\n",
            " [  0   0   1   0   0   0   0   0   0   1   0   8   0]\n",
            " [  0   0   0   0   0   0   1   4   0   0   0   0   7]]\n"
          ],
          "name": "stdout"
        }
      ]
    },
    {
      "metadata": {
        "id": "YLsG6VHNoFQz",
        "colab_type": "text"
      },
      "cell_type": "markdown",
      "source": [
        "#Test"
      ]
    },
    {
      "metadata": {
        "id": "1iP2p3NO34Yr",
        "colab_type": "code",
        "outputId": "df59acf5-7935-474d-8077-1f57343da503",
        "colab": {
          "base_uri": "https://localhost:8080/",
          "height": 266
        }
      },
      "cell_type": "code",
      "source": [
        "# content of this cell is copied from https://github.com/pytorch/tutorials/blob/master/beginner_source/blitz/cifar10_tutorial.py\n",
        "correct = 0\n",
        "total = 0\n",
        "predictions = []\n",
        "true_labels = []\n",
        "model_res18.eval()\n",
        "with torch.no_grad():\n",
        "    for data in test_loader:\n",
        "        images, labels = data\n",
        "        images = images.cuda()\n",
        "        labels = labels.cuda()\n",
        "        outputs = model_res18(images)\n",
        "        _, predicted = torch.max(outputs.data, 1)\n",
        "        predictions.append(np.ravel(predicted.cpu().numpy()))\n",
        "        true_labels.append(np.ravel(labels.cpu().numpy()))\n",
        "        total += labels.size(0)\n",
        "        correct += (predicted == labels).sum().item()\n",
        "\n",
        "print('Accuracy of the network on the test images: %d %%' % (\n",
        "    100 * correct / total))\n",
        "predictions = np.concatenate(predictions)\n",
        "true_labels = np.concatenate(true_labels)\n",
        "\n",
        "def conf_matrix(true_labels, predictions):\n",
        "  #heatmap of confusion matrix\n",
        "  from sklearn.metrics import confusion_matrix\n",
        "  import seaborn as sns; sns.set()\n",
        "  conf_mat = confusion_matrix(predictions, true_labels)\n",
        "  print(conf_mat)\n",
        "\n",
        "conf_matrix(true_labels, predictions)"
      ],
      "execution_count": 0,
      "outputs": [
        {
          "output_type": "stream",
          "text": [
            "Accuracy of the network on the test images: 71 %\n",
            "[[  2   0   0   0   0   0   0   0   0   1   0   0   0]\n",
            " [  0   0   1   0   0   0   0   0   0   0   0   0   0]\n",
            " [  0   0   0   0   0   0   0   0   0   0   0   0   0]\n",
            " [  0   0   0  94  13   0   0   6   3   0  23   0   1]\n",
            " [  0   1   0  16  21   1   0   3   1   0   5   0   0]\n",
            " [  0   0   0   1   0   3   0   0   1   0   2   1   0]\n",
            " [  0   0   0   0   0   0   0   0   0   0   0   0   0]\n",
            " [  1   0   0   8   3   0   0  13   1   0   0   0   4]\n",
            " [  0   0   0   2   0   1   0   0  10   0   4   0   0]\n",
            " [  0   0   0   0   0   0   0   0   0   0   0   1   0]\n",
            " [  0   0   0  33   6   2   0   4   6   0 255   1   0]\n",
            " [  0   0   0   0   0   0   0   0   0   1   0   5   0]\n",
            " [  0   0   0   0   0   1   2   3   0   0   0   1  13]]\n"
          ],
          "name": "stdout"
        }
      ]
    }
  ]
}